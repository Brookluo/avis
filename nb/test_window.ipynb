{
 "cells": [
  {
   "cell_type": "code",
   "execution_count": 1,
   "id": "aff9dc74",
   "metadata": {},
   "outputs": [],
   "source": [
    "from pathlib import Path\n",
    "import numpy as np\n",
    "import matplotlib.pyplot as plt\n",
    "import os\n",
    "import sys"
   ]
  },
  {
   "cell_type": "code",
   "execution_count": 2,
   "id": "5139bf60",
   "metadata": {},
   "outputs": [],
   "source": [
    "# to use pytorch/2.6.0 module\n",
    "sys.path.append(\"/global/homes/b/brookluo/.local/perlmutter/pytorch2.6.0/lib/python3.12/site-packages\")\n",
    "sys.path.append(\"../src/\")"
   ]
  },
  {
   "cell_type": "code",
   "execution_count": 3,
   "id": "4d48aae0",
   "metadata": {},
   "outputs": [],
   "source": [
    "from astropy.io import fits\n",
    "import fitsio\n",
    "from astropy.table import Table\n",
    "from astropy.table import vstack\n",
    "from scipy.signal import spectrogram"
   ]
  },
  {
   "cell_type": "code",
   "execution_count": null,
   "id": "718e82d0",
   "metadata": {},
   "outputs": [],
   "source": []
  }
 ],
 "metadata": {
  "kernelspec": {
   "display_name": "DESI main",
   "language": "python",
   "name": "desi-main"
  }
 },
 "nbformat": 4,
 "nbformat_minor": 5
}
